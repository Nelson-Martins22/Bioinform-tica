{
 "cells": [
  {
   "cell_type": "markdown",
   "id": "d2120a00",
   "metadata": {},
   "source": [
    "# Análise de homologias por BLAST\n"
   ]
  },
  {
   "cell_type": "code",
   "execution_count": 2,
   "id": "963963e1",
   "metadata": {},
   "outputs": [],
   "source": [
    "from Bio import SeqIO\n",
    "from Bio.Blast import NCBIWWW\n",
    "from Bio.Blast import NCBIXML\n",
    "\n"
   ]
  },
  {
   "cell_type": "code",
   "execution_count": null,
   "id": "a703a06f",
   "metadata": {},
   "outputs": [],
   "source": [
    "#Ler a sequência de arquivo fasta\n",
    "seq_record=SeqIO.read(open(\"sequence.fasta\"), format=\"fasta\")\n",
    "\n",
    "# Executar uma procura de homologias usando BLAST\n",
    "result_handle = NCBIWWW.qblast(\"blastn\", \"nt\", seq_record.format(\"fasta\"))\n",
    "\n",
    "\n",
    "# Analisar o resultado da procura de homologias\n",
    "\n",
    "blast_records= NCBIXML.parse(result_handle)\n",
    "\n",
    "for blast_record in blast_records:\n",
    "    for alignment in blast_record.alignments:\n",
    "        for hsp in alignment.hsps:\n",
    "            if hsp.expect < 0.1:  #threshold para e-value\n",
    "                print(\"------Alinhamento--------\")\n",
    "                print(\"Sequence:\", alignment.title)\n",
    "                print(\"Length:\", alignment.length)\n",
    "                print(\"Identity:\", hsp.identities / alignment.length)\n",
    "                print(\"E-value:\", hsp.expect)\n",
    "\n"
   ]
  },
  {
   "cell_type": "code",
   "execution_count": null,
   "id": "f58d3d4d",
   "metadata": {},
   "outputs": [],
   "source": []
  },
  {
   "cell_type": "code",
   "execution_count": null,
   "id": "4fe690ca",
   "metadata": {},
   "outputs": [],
   "source": []
  }
 ],
 "metadata": {
  "kernelspec": {
   "display_name": "Python 3 (ipykernel)",
   "language": "python",
   "name": "python3"
  },
  "language_info": {
   "codemirror_mode": {
    "name": "ipython",
    "version": 3
   },
   "file_extension": ".py",
   "mimetype": "text/x-python",
   "name": "python",
   "nbconvert_exporter": "python",
   "pygments_lexer": "ipython3",
   "version": "3.11.1"
  }
 },
 "nbformat": 4,
 "nbformat_minor": 5
}
